{
  "nbformat": 4,
  "nbformat_minor": 0,
  "metadata": {
    "colab": {
      "provenance": [],
      "gpuType": "T4"
    },
    "kernelspec": {
      "name": "python3",
      "display_name": "Python 3"
    },
    "language_info": {
      "name": "python"
    },
    "accelerator": "GPU"
  },
  "cells": [
    {
      "cell_type": "code",
      "execution_count": 1,
      "metadata": {
        "id": "_hTof4mGtGmQ"
      },
      "outputs": [],
      "source": [
        "import numpy as np\n",
        "import tensorflow as tf"
      ]
    },
    {
      "cell_type": "markdown",
      "source": [
        "With out GPU Support\n",
        "\n"
      ],
      "metadata": {
        "id": "zOQVYofdu76g"
      }
    },
    {
      "cell_type": "code",
      "source": [
        "import time"
      ],
      "metadata": {
        "id": "JY6rNDJpvIuA"
      },
      "execution_count": 3,
      "outputs": []
    },
    {
      "cell_type": "code",
      "source": [
        "tf.test.gpu_device_name()"
      ],
      "metadata": {
        "colab": {
          "base_uri": "https://localhost:8080/",
          "height": 35
        },
        "id": "UUawbih8vLdr",
        "outputId": "4e425123-d9fd-430b-b7fc-a024b5fb9ad4"
      },
      "execution_count": 4,
      "outputs": [
        {
          "output_type": "execute_result",
          "data": {
            "text/plain": [
              "''"
            ],
            "application/vnd.google.colaboratory.intrinsic+json": {
              "type": "string"
            }
          },
          "metadata": {},
          "execution_count": 4
        }
      ]
    },
    {
      "cell_type": "code",
      "source": [
        "shape=5000\n",
        "np_array = np.random.uniform(size = [shape,shape])\n",
        "start = time.time()\n",
        "\n",
        "for i in range(10):\n",
        "  np.matmul(np_array, np_array)\n",
        "\n",
        "end = time.time()\n",
        "time_period = end-start\n",
        "\n",
        "print(f'{time_period} seconds')"
      ],
      "metadata": {
        "colab": {
          "base_uri": "https://localhost:8080/"
        },
        "id": "5s6KDcZfvT-3",
        "outputId": "36fe9de3-cd28-4281-c7ba-aa2aec5581e4"
      },
      "execution_count": 5,
      "outputs": [
        {
          "output_type": "stream",
          "name": "stdout",
          "text": [
            "79.02612090110779 seconds\n"
          ]
        }
      ]
    },
    {
      "cell_type": "code",
      "source": [
        "shape=5000\n",
        "tf_array = tf.random.uniform([shape,shape])\n",
        "start = time.time()\n",
        "\n",
        "for i in range(10):\n",
        "  tf.matmul(tf_array, tf_array)\n",
        "\n",
        "end = time.time()\n",
        "time_period = end-start\n",
        "\n",
        "print(f'{time_period} seconds')"
      ],
      "metadata": {
        "colab": {
          "base_uri": "https://localhost:8080/"
        },
        "id": "rBi0AudAwWMl",
        "outputId": "2735fa4f-4473-4173-8c6e-07452d87f617"
      },
      "execution_count": 7,
      "outputs": [
        {
          "output_type": "stream",
          "name": "stdout",
          "text": [
            "41.416791915893555 seconds\n"
          ]
        }
      ]
    },
    {
      "cell_type": "code",
      "source": [],
      "metadata": {
        "id": "SYgbus5oxHeH"
      },
      "execution_count": null,
      "outputs": []
    },
    {
      "cell_type": "markdown",
      "source": [
        "with GPU Support"
      ],
      "metadata": {
        "id": "9_I9QHiPxepT"
      }
    },
    {
      "cell_type": "code",
      "source": [
        "import numpy as np\n",
        "import tensorflow as tf"
      ],
      "metadata": {
        "id": "Y2LaRq6exg5c"
      },
      "execution_count": 1,
      "outputs": []
    },
    {
      "cell_type": "code",
      "source": [
        "import time"
      ],
      "metadata": {
        "id": "UAHlCdRVxpNh"
      },
      "execution_count": 2,
      "outputs": []
    },
    {
      "cell_type": "code",
      "source": [
        "tf.test.gpu_device_name()"
      ],
      "metadata": {
        "colab": {
          "base_uri": "https://localhost:8080/",
          "height": 35
        },
        "id": "Wo-lZiQ_xtdJ",
        "outputId": "b124e91c-e3fa-4a4f-b11f-38c6a83e36ba"
      },
      "execution_count": 3,
      "outputs": [
        {
          "output_type": "execute_result",
          "data": {
            "text/plain": [
              "'/device:GPU:0'"
            ],
            "application/vnd.google.colaboratory.intrinsic+json": {
              "type": "string"
            }
          },
          "metadata": {},
          "execution_count": 3
        }
      ]
    },
    {
      "cell_type": "code",
      "source": [
        "shape=5000\n",
        "np_array = np.random.uniform(size = [shape,shape])\n",
        "start = time.time()\n",
        "\n",
        "for i in range(10):\n",
        "  np.matmul(np_array, np_array)\n",
        "\n",
        "end = time.time()\n",
        "time_period = end-start\n",
        "\n",
        "print(f'{time_period} seconds')"
      ],
      "metadata": {
        "colab": {
          "base_uri": "https://localhost:8080/"
        },
        "id": "HQU_uItGxv5w",
        "outputId": "39f92b26-0345-4c8d-b7d3-2ec9c9f76295"
      },
      "execution_count": 4,
      "outputs": [
        {
          "output_type": "stream",
          "name": "stdout",
          "text": [
            "85.03747892379761 seconds\n"
          ]
        }
      ]
    },
    {
      "cell_type": "code",
      "source": [
        "shape=5000\n",
        "tf_array = tf.random.uniform([shape,shape])\n",
        "start = time.time()\n",
        "\n",
        "for i in range(10):\n",
        "  tf.matmul(tf_array, tf_array)\n",
        "\n",
        "end = time.time()\n",
        "time_period = end-start\n",
        "\n",
        "print(f'{time_period} seconds')"
      ],
      "metadata": {
        "colab": {
          "base_uri": "https://localhost:8080/"
        },
        "id": "6TBivqU7x05F",
        "outputId": "52821822-8f0e-4627-d947-4c0fd5b2e0d2"
      },
      "execution_count": 5,
      "outputs": [
        {
          "output_type": "stream",
          "name": "stdout",
          "text": [
            "0.20374107360839844 seconds\n"
          ]
        }
      ]
    },
    {
      "cell_type": "code",
      "source": [],
      "metadata": {
        "id": "JOxaUj9oyN2N"
      },
      "execution_count": null,
      "outputs": []
    },
    {
      "cell_type": "markdown",
      "source": [
        "With out GPU\n",
        "numpy = 79.04\n",
        "tensor = 41.41\n",
        "\n",
        "with GPU\n",
        "numpy = 85.03\n",
        "tensor = 0.20 Seconds\n",
        "\n",
        "Tensor is too much matchn and speed in GPU\n"
      ],
      "metadata": {
        "id": "dno2DyQlycRR"
      }
    },
    {
      "cell_type": "code",
      "source": [],
      "metadata": {
        "id": "y1BwkEe8zD_5"
      },
      "execution_count": null,
      "outputs": []
    }
  ]
}